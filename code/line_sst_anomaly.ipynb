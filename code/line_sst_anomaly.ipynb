{
 "cells": [
  {
   "cell_type": "code",
   "execution_count": 10,
   "id": "2382086b",
   "metadata": {},
   "outputs": [
    {
     "name": "stderr",
     "output_type": "stream",
     "text": [
      "C:\\Users\\AdrienSourdille\\AppData\\Local\\Temp\\ipykernel_27600\\1870626782.py:36: DeprecationWarning: The 'unary_union' attribute is deprecated, use the 'union_all()' method instead.\n",
      "  gdf_filtered = gdf_all[gdf_all.within(gbr_gdf.unary_union)]\n"
     ]
    }
   ],
   "source": [
    "import pandas as pd\n",
    "import geopandas as gpd\n",
    "import matplotlib.pyplot as plt\n",
    "from pathlib import Path\n",
    "from shapely.geometry import Point\n",
    "\n",
    "# Paths\n",
    "daily_data_root = Path(r\"C:\\Users\\AdrienSourdille\\Coral_Bleaching_Live_Map\\data\\raw\\daily\")\n",
    "gbr_shapefile_path = r\"C:\\Users\\AdrienSourdille\\Coral_Bleaching_Live_Map\\data\\raw\\shapefile_gbr\\worldheritagemarineprogramme.shp\"\n",
    "output_plot_path = r\"C:\\Users\\AdrienSourdille\\Coral_Bleaching_Live_Map\\output\\sst_anomaly_timeseries.png\"\n",
    "\n",
    "# Load GBR polygon\n",
    "gbr_gdf = gpd.read_file(gbr_shapefile_path).to_crs(\"EPSG:4326\")\n",
    "\n",
    "# Load and combine all daily CSVs\n",
    "csv_files = list(daily_data_root.rglob(\"sst_anomaly_*.csv\"))\n",
    "records = []\n",
    "\n",
    "for csv_file in csv_files:\n",
    "    df = pd.read_csv(\n",
    "        csv_file,\n",
    "        usecols=[\"longitude\", \"latitude\", \"time\", \"sea_surface_temperature_anomaly\"],\n",
    "        skiprows=[1]\n",
    "    )\n",
    "    df.dropna(subset=[\"longitude\", \"latitude\", \"time\", \"sea_surface_temperature_anomaly\"], inplace=True)\n",
    "    records.append(df)\n",
    "\n",
    "all_data = pd.concat(records, ignore_index=True)\n",
    "all_data['time'] = pd.to_datetime(all_data['time'])\n",
    "\n",
    "# Convert to GeoDataFrame\n",
    "geometry = gpd.points_from_xy(all_data.longitude, all_data.latitude)\n",
    "gdf_all = gpd.GeoDataFrame(all_data, geometry=geometry, crs=\"EPSG:4326\")\n",
    "\n",
    "# Spatial filter: keep only points inside GBR polygon\n",
    "gdf_filtered = gdf_all[gdf_all.within(gbr_gdf.unary_union)]\n",
    "\n",
    "# Group by date and compute mean anomaly\n",
    "daily_avg = gdf_filtered.groupby(gdf_filtered['time'].dt.date)['sea_surface_temperature_anomaly'].mean().reset_index()\n",
    "daily_avg.columns = ['Date', 'Avg_SST_Anomaly']\n",
    "\n",
    "# Plot the time series\n",
    "plt.figure(figsize=(12, 6))\n",
    "plt.plot(daily_avg['Date'], daily_avg['Avg_SST_Anomaly'], label='Avg SST Anomaly', color='tomato')\n",
    "plt.axhline(0, color='gray', linestyle='--', linewidth=1)\n",
    "plt.xlabel('Date')\n",
    "plt.ylabel('SST Anomaly (°C)')\n",
    "plt.title('Daily Average Sea Surface Temperature Anomaly in the GBR')\n",
    "plt.grid(True)\n",
    "plt.tight_layout()\n",
    "plt.savefig(output_plot_path)\n",
    "plt.close()\n"
   ]
  }
 ],
 "metadata": {
  "kernelspec": {
   "display_name": ".venv",
   "language": "python",
   "name": "python3"
  },
  "language_info": {
   "codemirror_mode": {
    "name": "ipython",
    "version": 3
   },
   "file_extension": ".py",
   "mimetype": "text/x-python",
   "name": "python",
   "nbconvert_exporter": "python",
   "pygments_lexer": "ipython3",
   "version": "3.12.5"
  }
 },
 "nbformat": 4,
 "nbformat_minor": 5
}
