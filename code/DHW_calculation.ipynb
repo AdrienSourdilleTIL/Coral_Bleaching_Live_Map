{
 "cells": [
  {
   "cell_type": "code",
   "execution_count": null,
   "id": "9e2d88a2",
   "metadata": {},
   "outputs": [
    {
     "name": "stdout",
     "output_type": "stream",
     "text": [
      "Historical data updated, now contains 65192 rows.\n",
      "Number of new rows inserted: 65192\n"
     ]
    }
   ],
   "source": [
    "import pandas as pd\n",
    "import os\n",
    "from datetime import datetime, timedelta\n",
    "\n",
    "def load_and_calculate_dhw(base_path=\"data/raw/daily\", days=84, threshold=1.0):\n",
    "    end_date = datetime.utcnow().date() - timedelta(days=2)  # data availability delay\n",
    "    start_date = end_date - timedelta(days=days-1)\n",
    "\n",
    "    dfs = []\n",
    "\n",
    "    for day_delta in range(days):\n",
    "        date = start_date + timedelta(days=day_delta)\n",
    "        folder = os.path.join(base_path, str(date.year), f\"{date.month:02d}\", f\"{date.day:02d}\")\n",
    "        filename = f\"sst_anomaly_{date.strftime('%Y_%m_%d')}.csv\"\n",
    "        filepath = os.path.join(folder, filename)\n",
    "\n",
    "        if os.path.exists(filepath):\n",
    "            df = pd.read_csv(filepath, skiprows=[1])\n",
    "            df = df[['time', 'latitude', 'longitude', 'sea_surface_temperature_anomaly']]\n",
    "            df['sea_surface_temperature_anomaly'] = pd.to_numeric(df['sea_surface_temperature_anomaly'], errors='coerce')\n",
    "            dfs.append(df)\n",
    "        else:\n",
    "            print(f\"Warning: Missing file {filepath}\")\n",
    "\n",
    "    if not dfs:\n",
    "        raise ValueError(\"No data files found for the given period\")\n",
    "\n",
    "    all_data = pd.concat(dfs)\n",
    "    all_data['thermal_stress'] = all_data['sea_surface_temperature_anomaly'] - threshold\n",
    "    all_data.loc[all_data['thermal_stress'] < 0, 'thermal_stress'] = 0\n",
    "\n",
    "    dhw_df = (\n",
    "        all_data.groupby(['latitude', 'longitude'])\n",
    "        ['thermal_stress']\n",
    "        .sum()\n",
    "        .reset_index()\n",
    "    )\n",
    "    dhw_df['DHW'] = dhw_df['thermal_stress'] / 7\n",
    "    dhw_df.drop(columns=['thermal_stress'], inplace=True)\n",
    "\n",
    "    dhw_df['time'] = end_date.strftime('%Y-%m-%dT12:00:00Z')\n",
    "    dhw_df = dhw_df[['time', 'latitude', 'longitude', 'DHW']]\n",
    "\n",
    "    return dhw_df\n",
    "\n",
    "if __name__ == \"__main__\":\n",
    "    dhw = load_and_calculate_dhw()\n",
    "    output_folder = \"data/raw\"\n",
    "    os.makedirs(output_folder, exist_ok=True)\n",
    "    output_path = os.path.join(output_folder, \"dhw_12weeks.csv\")\n",
    "    dhw.to_csv(output_path, index=False)\n",
    "    print(f\"DHW calculation complete and saved to {output_path}\")\n"
   ]
  }
 ],
 "metadata": {
  "kernelspec": {
   "display_name": ".venv",
   "language": "python",
   "name": "python3"
  },
  "language_info": {
   "codemirror_mode": {
    "name": "ipython",
    "version": 3
   },
   "file_extension": ".py",
   "mimetype": "text/x-python",
   "name": "python",
   "nbconvert_exporter": "python",
   "pygments_lexer": "ipython3",
   "version": "3.12.5"
  }
 },
 "nbformat": 4,
 "nbformat_minor": 5
}
