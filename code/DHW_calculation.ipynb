{
 "cells": [
  {
   "cell_type": "code",
   "execution_count": 7,
   "id": "9e2d88a2",
   "metadata": {},
   "outputs": [
    {
     "name": "stderr",
     "output_type": "stream",
     "text": [
      "C:\\Users\\AdrienSourdille\\AppData\\Local\\Temp\\ipykernel_14400\\1996057208.py:7: DeprecationWarning: datetime.datetime.utcnow() is deprecated and scheduled for removal in a future version. Use timezone-aware objects to represent datetimes in UTC: datetime.datetime.now(datetime.UTC).\n",
      "  end_date = datetime.utcnow().date() - timedelta(days=2)  # data availability delay\n"
     ]
    },
    {
     "name": "stdout",
     "output_type": "stream",
     "text": [
      "DHW calculation complete and saved to C:\\Users\\AdrienSourdille\\Coral_Bleaching_Live_Map\\data\\base\\dhw_12weeks.csv\n"
     ]
    }
   ],
   "source": [
    "import pandas as pd\n",
    "import os\n",
    "from datetime import datetime, timedelta\n",
    "\n",
    "def load_and_calculate_dhw(project_root, base_subpath=\"data/raw/daily\", days=84, threshold=1.0):\n",
    "    base_path = os.path.join(project_root, base_subpath)\n",
    "    end_date = datetime.utcnow().date() - timedelta(days=2)  # data availability delay\n",
    "    start_date = end_date - timedelta(days=days-1)\n",
    "\n",
    "    dfs = []\n",
    "\n",
    "    for day_delta in range(days):\n",
    "        date = start_date + timedelta(days=day_delta)\n",
    "        folder = os.path.join(base_path, str(date.year), f\"{date.month:02d}\", f\"{date.day:02d}\")\n",
    "        filename = f\"sst_anomaly_{date.strftime('%Y_%m_%d')}.csv\"\n",
    "        filepath = os.path.join(folder, filename)\n",
    "\n",
    "        if os.path.exists(filepath):\n",
    "            df = pd.read_csv(filepath, skiprows=[1])\n",
    "            df = df[['time', 'latitude', 'longitude', 'sea_surface_temperature_anomaly']]\n",
    "            df['sea_surface_temperature_anomaly'] = pd.to_numeric(df['sea_surface_temperature_anomaly'], errors='coerce')\n",
    "            dfs.append(df)\n",
    "        else:\n",
    "            print(f\"Warning: Missing file {filepath}\")\n",
    "\n",
    "    if not dfs:\n",
    "        raise ValueError(\"No data files found for the given period\")\n",
    "\n",
    "    all_data = pd.concat(dfs)\n",
    "    all_data['thermal_stress'] = all_data['sea_surface_temperature_anomaly'] - threshold\n",
    "    all_data.loc[all_data['thermal_stress'] < 0, 'thermal_stress'] = 0\n",
    "\n",
    "    dhw_df = (\n",
    "        all_data.groupby(['latitude', 'longitude'])\n",
    "        ['thermal_stress']\n",
    "        .sum()\n",
    "        .reset_index()\n",
    "    )\n",
    "    dhw_df['DHW'] = dhw_df['thermal_stress'] / 7\n",
    "    dhw_df.drop(columns=['thermal_stress'], inplace=True)\n",
    "\n",
    "    dhw_df['time'] = end_date.strftime('%Y-%m-%dT12:00:00Z')\n",
    "    dhw_df = dhw_df[['time', 'latitude', 'longitude', 'DHW']]\n",
    "\n",
    "    return dhw_df\n",
    "\n",
    "if __name__ == \"__main__\":\n",
    "    # Put your actual project root path here:\n",
    "    project_root = r\"C:\\Users\\AdrienSourdille\\Coral_Bleaching_Live_Map\"\n",
    "\n",
    "    dhw = load_and_calculate_dhw(project_root)\n",
    "    output_folder = os.path.join(project_root, \"data\", \"base\")\n",
    "    os.makedirs(output_folder, exist_ok=True)\n",
    "    output_path = os.path.join(output_folder, \"dhw_12weeks.csv\")\n",
    "    dhw.to_csv(output_path, index=False)\n",
    "    print(f\"DHW calculation complete and saved to {output_path}\")\n"
   ]
  }
 ],
 "metadata": {
  "kernelspec": {
   "display_name": ".venv",
   "language": "python",
   "name": "python3"
  },
  "language_info": {
   "codemirror_mode": {
    "name": "ipython",
    "version": 3
   },
   "file_extension": ".py",
   "mimetype": "text/x-python",
   "name": "python",
   "nbconvert_exporter": "python",
   "pygments_lexer": "ipython3",
   "version": "3.12.5"
  }
 },
 "nbformat": 4,
 "nbformat_minor": 5
}
