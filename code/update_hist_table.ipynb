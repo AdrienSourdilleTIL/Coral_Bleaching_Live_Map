{
 "cells": [
  {
   "cell_type": "code",
   "execution_count": 12,
   "id": "9e2d88a2",
   "metadata": {},
   "outputs": [
    {
     "name": "stdout",
     "output_type": "stream",
     "text": [
      "Historical data updated, now contains 2980440 rows.\n",
      "Number of new rows inserted: 0\n"
     ]
    }
   ],
   "source": [
    "import pandas as pd\n",
    "import os\n",
    "\n",
    "def update_historical_data(\n",
    "    raw_filepath=r\"C:\\Users\\AdrienSourdille\\Coral_Bleaching_Live_Map\\data\\raw\\latest_sst_anomaly.csv\",\n",
    "    hist_filepath=r\"C:\\Users\\AdrienSourdille\\Coral_Bleaching_Live_Map\\data\\base\\hist_sst_anomaly.csv\"\n",
    "):\n",
    "    os.makedirs(os.path.dirname(hist_filepath), exist_ok=True)\n",
    "\n",
    "    # Load new daily data (no skiprows unless necessary)\n",
    "    new_data = pd.read_csv(raw_filepath, skiprows=[1])  \n",
    "\n",
    "    if os.path.exists(hist_filepath):\n",
    "        hist_data = pd.read_csv(hist_filepath)\n",
    "        before_count = len(hist_data)\n",
    "\n",
    "        combined = pd.concat([hist_data, new_data], ignore_index=True)\n",
    "        combined.drop_duplicates(subset=['time', 'longitude', 'latitude'], inplace=True)\n",
    "\n",
    "        inserted_rows = len(combined) - before_count\n",
    "    else:\n",
    "        combined = new_data\n",
    "        inserted_rows = len(new_data)\n",
    "\n",
    "    combined.to_csv(hist_filepath, index=False)\n",
    "    print(f\"Historical data updated, now contains {len(combined)} rows.\")\n",
    "    print(f\"Number of new rows inserted: {inserted_rows}\")\n",
    "\n",
    "if __name__ == \"__main__\":\n",
    "    update_historical_data()\n"
   ]
  }
 ],
 "metadata": {
  "kernelspec": {
   "display_name": ".venv",
   "language": "python",
   "name": "python3"
  },
  "language_info": {
   "codemirror_mode": {
    "name": "ipython",
    "version": 3
   },
   "file_extension": ".py",
   "mimetype": "text/x-python",
   "name": "python",
   "nbconvert_exporter": "python",
   "pygments_lexer": "ipython3",
   "version": "3.12.5"
  }
 },
 "nbformat": 4,
 "nbformat_minor": 5
}
