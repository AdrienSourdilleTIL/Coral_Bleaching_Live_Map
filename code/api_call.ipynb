{
 "cells": [
  {
   "cell_type": "code",
   "execution_count": 111,
   "id": "85e3dcf8",
   "metadata": {},
   "outputs": [
    {
     "name": "stderr",
     "output_type": "stream",
     "text": [
      "C:\\Users\\AdrienSourdille\\AppData\\Local\\Temp\\ipykernel_31852\\3580975971.py:7: DeprecationWarning: datetime.datetime.utcnow() is deprecated and scheduled for removal in a future version. Use timezone-aware objects to represent datetimes in UTC: datetime.datetime.now(datetime.UTC).\n",
      "  date = datetime.utcnow().date() - timedelta(days=100)\n"
     ]
    },
    {
     "name": "stdout",
     "output_type": "stream",
     "text": [
      "Fetching SST anomaly for 2025-03-11 from NOAA ERDDAP...\n",
      "Saved to: c:\\Users\\AdrienSourdille\\Coral_Bleaching_Live_Map\\data\\raw\\daily\\2025\\03\\11\\sst_anomaly_2025_03_11.csv\n"
     ]
    }
   ],
   "source": [
    "import requests\n",
    "from datetime import datetime, timedelta\n",
    "import os\n",
    "\n",
    "def fetch_sst_anomaly():\n",
    "    # Use 2 days ago to ensure data availability\n",
    "    date = datetime.utcnow().date() - timedelta(days=100)\n",
    "    timestamp = date.strftime(\"%Y-%m-%dT12:00:00Z\")\n",
    "\n",
    "    dataset_id = \"noaacrwsstanomalyDaily\"\n",
    "    variable = \"sea_surface_temperature_anomaly\"\n",
    "\n",
    "    # Build ERDDAP URL\n",
    "    url = (\n",
    "        f\"https://coastwatch.noaa.gov/erddap/griddap/{dataset_id}.csv?\"\n",
    "        f\"{variable}%5B({timestamp}):1:({timestamp})%5D\"\n",
    "        f\"%5B(-10.475):1:(-24.475)%5D\"\n",
    "        f\"%5B(142.475):1:(154.025)%5D\"\n",
    "    )\n",
    "\n",
    "    # Determine project root safely\n",
    "    try:\n",
    "        project_root = os.path.abspath(os.path.join(os.path.dirname(__file__), \"..\"))\n",
    "    except NameError:\n",
    "        # Running inside a notebook in code/ folder, go one level up to project root\n",
    "        project_root = os.path.abspath(os.path.join(os.getcwd(), \"..\"))\n",
    "\n",
    "\n",
    "    # Build folder path relative to project root\n",
    "    folder_path = os.path.join(\n",
    "        project_root, \"data\", \"raw\", \"daily\",\n",
    "        str(date.year),\n",
    "        f\"{date.month:02d}\",\n",
    "        f\"{date.day:02d}\"\n",
    "    )\n",
    "    os.makedirs(folder_path, exist_ok=True)\n",
    "\n",
    "    # Build filename\n",
    "    filename = f\"sst_anomaly_{date.strftime('%Y_%m_%d')}.csv\"\n",
    "    output_path = os.path.join(folder_path, filename)\n",
    "\n",
    "    print(f\"Fetching SST anomaly for {date} from NOAA ERDDAP...\")\n",
    "    response = requests.get(url)\n",
    "    response.raise_for_status()\n",
    "\n",
    "    with open(output_path, \"wb\") as f:\n",
    "        f.write(response.content)\n",
    "\n",
    "    print(f\"Saved to: {output_path}\")\n",
    "\n",
    "if __name__ == \"__main__\":\n",
    "    fetch_sst_anomaly()"
   ]
  },
  {
   "cell_type": "code",
   "execution_count": 19,
   "id": "b4034c95",
   "metadata": {},
   "outputs": [
    {
     "name": "stdout",
     "output_type": "stream",
     "text": [
      "Columns: ['UTC', 'degrees_north', 'degrees_east', 'degree_C']\n",
      "\n",
      "Sample rows:\n",
      "                    UTC  degrees_north  degrees_east  degree_C\n",
      "0  2025-06-17T12:00:00Z        -10.475       142.475      1.38\n",
      "1  2025-06-17T12:00:00Z        -10.475       142.525      1.41\n",
      "2  2025-06-17T12:00:00Z        -10.475       142.575      1.42\n",
      "3  2025-06-17T12:00:00Z        -10.475       142.625      1.46\n",
      "4  2025-06-17T12:00:00Z        -10.475       142.675      1.48\n",
      "\n",
      "Summary statistics:\n",
      "       degrees_north  degrees_east      degree_C\n",
      "count   65192.000000  65192.000000  42699.000000\n",
      "mean      -17.475000    148.250000      1.171771\n",
      "std         4.055891      3.348626      0.406953\n",
      "min       -24.475000    142.475000     -4.260000\n",
      "25%       -20.975000    145.362500      0.920000\n",
      "50%       -17.475000    148.250000      1.230000\n",
      "75%       -13.975000    151.137500      1.460000\n",
      "max       -10.475000    154.025000      1.970000\n",
      "\n",
      "Data types:\n",
      "UTC               object\n",
      "degrees_north    float64\n",
      "degrees_east     float64\n",
      "degree_C         float64\n",
      "dtype: object\n"
     ]
    }
   ],
   "source": [
    "import pandas as pd\n",
    "\n",
    "def describe_sst_data(filepath=r\"C:\\Users\\AdrienSourdille\\Coral_Bleaching_Live_Map\\data\\raw\\latest_sst_anomaly.csv\"):\n",
    "    # Load CSV (skip first rows if they are metadata, adjust skiprows if needed)\n",
    "    df = pd.read_csv(filepath, skiprows=1)  # ERDDAP usually has 1 header row before data\n",
    "\n",
    "    print(\"Columns:\", df.columns.tolist())\n",
    "    print(\"\\nSample rows:\")\n",
    "    print(df.head())\n",
    "\n",
    "    print(\"\\nSummary statistics:\")\n",
    "    print(df.describe())\n",
    "\n",
    "    print(\"\\nData types:\")\n",
    "    print(df.dtypes)\n",
    "\n",
    "if __name__ == \"__main__\":\n",
    "    describe_sst_data()\n"
   ]
  }
 ],
 "metadata": {
  "kernelspec": {
   "display_name": ".venv",
   "language": "python",
   "name": "python3"
  },
  "language_info": {
   "codemirror_mode": {
    "name": "ipython",
    "version": 3
   },
   "file_extension": ".py",
   "mimetype": "text/x-python",
   "name": "python",
   "nbconvert_exporter": "python",
   "pygments_lexer": "ipython3",
   "version": "3.12.5"
  }
 },
 "nbformat": 4,
 "nbformat_minor": 5
}
