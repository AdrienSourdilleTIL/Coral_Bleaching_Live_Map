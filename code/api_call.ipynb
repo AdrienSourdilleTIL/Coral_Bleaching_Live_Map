{
 "cells": [
  {
   "cell_type": "code",
   "execution_count": 1,
   "id": "85e3dcf8",
   "metadata": {},
   "outputs": [
    {
     "name": "stderr",
     "output_type": "stream",
     "text": [
      "C:\\Users\\AdrienSourdille\\AppData\\Local\\Temp\\ipykernel_31736\\2587309016.py:7: DeprecationWarning: datetime.datetime.utcnow() is deprecated and scheduled for removal in a future version. Use timezone-aware objects to represent datetimes in UTC: datetime.datetime.now(datetime.UTC).\n",
      "  date = datetime.utcnow().date() - timedelta(days=48)\n"
     ]
    },
    {
     "name": "stdout",
     "output_type": "stream",
     "text": [
      "Fetching SST anomaly for 2025-05-02 from NOAA ERDDAP...\n",
      "Saved to: c:\\Users\\AdrienSourdille\\Coral_Bleaching_Live_Map\\data\\raw\\daily\\2025\\05\\02\\sst_anomaly_2025_05_02.csv\n"
     ]
    }
   ],
   "source": [
    "import requests\n",
    "from datetime import datetime, timedelta\n",
    "import os\n",
    "\n",
    "def fetch_sst_anomaly():\n",
    "    # Use 2 days ago to ensure data availability\n",
    "    date = datetime.utcnow().date() - timedelta(days=48)\n",
    "    timestamp = date.strftime(\"%Y-%m-%dT12:00:00Z\")\n",
    "\n",
    "    dataset_id = \"noaacrwsstanomalyDaily\"\n",
    "    variable = \"sea_surface_temperature_anomaly\"\n",
    "\n",
    "    # Build ERDDAP URL\n",
    "    url = (\n",
    "        f\"https://coastwatch.noaa.gov/erddap/griddap/{dataset_id}.csv?\"\n",
    "        f\"{variable}%5B({timestamp}):1:({timestamp})%5D\"\n",
    "        f\"%5B(-10.475):1:(-24.475)%5D\"\n",
    "        f\"%5B(142.475):1:(154.025)%5D\"\n",
    "    )\n",
    "\n",
    "    # Determine project root safely\n",
    "    try:\n",
    "        project_root = os.path.abspath(os.path.join(os.path.dirname(__file__), \"..\"))\n",
    "    except NameError:\n",
    "        # Running inside a notebook in code/ folder, go one level up to project root\n",
    "        project_root = os.path.abspath(os.path.join(os.getcwd(), \"..\"))\n",
    "\n",
    "\n",
    "    # Build folder path relative to project root\n",
    "    folder_path = os.path.join(\n",
    "        project_root, \"data\", \"raw\", \"daily\",\n",
    "        str(date.year),\n",
    "        f\"{date.month:02d}\",\n",
    "        f\"{date.day:02d}\"\n",
    "    )\n",
    "    os.makedirs(folder_path, exist_ok=True)\n",
    "\n",
    "    # Build filename\n",
    "    filename = f\"sst_anomaly_{date.strftime('%Y_%m_%d')}.csv\"\n",
    "    output_path = os.path.join(folder_path, filename)\n",
    "\n",
    "    print(f\"Fetching SST anomaly for {date} from NOAA ERDDAP...\")\n",
    "    response = requests.get(url)\n",
    "    response.raise_for_status()\n",
    "\n",
    "    with open(output_path, \"wb\") as f:\n",
    "        f.write(response.content)\n",
    "\n",
    "    print(f\"Saved to: {output_path}\")\n",
    "\n",
    "if __name__ == \"__main__\":\n",
    "    fetch_sst_anomaly()"
   ]
  }
 ],
 "metadata": {
  "kernelspec": {
   "display_name": ".venv",
   "language": "python",
   "name": "python3"
  },
  "language_info": {
   "codemirror_mode": {
    "name": "ipython",
    "version": 3
   },
   "file_extension": ".py",
   "mimetype": "text/x-python",
   "name": "python",
   "nbconvert_exporter": "python",
   "pygments_lexer": "ipython3",
   "version": "3.12.5"
  }
 },
 "nbformat": 4,
 "nbformat_minor": 5
}
