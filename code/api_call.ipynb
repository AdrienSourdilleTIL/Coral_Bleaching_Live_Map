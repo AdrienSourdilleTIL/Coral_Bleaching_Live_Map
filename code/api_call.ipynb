{
 "cells": [
  {
   "cell_type": "code",
   "execution_count": 4,
   "id": "ba34a594",
   "metadata": {},
   "outputs": [
    {
     "name": "stdout",
     "output_type": "stream",
     "text": [
      "c:\\Users\\AdrienSourdille\\Coral_Bleaching_Live_Map\\.venv\\Scripts\\python.exe\n",
      "3.12.5 (tags/v3.12.5:ff3bc82, Aug  6 2024, 20:45:27) [MSC v.1940 64 bit (AMD64)]\n"
     ]
    }
   ],
   "source": [
    "import sys\n",
    "print(sys.executable)\n",
    "print(sys.version)\n"
   ]
  },
  {
   "cell_type": "code",
   "execution_count": null,
   "id": "85e3dcf8",
   "metadata": {},
   "outputs": [
    {
     "name": "stderr",
     "output_type": "stream",
     "text": [
      "C:\\Users\\AdrienSourdille\\AppData\\Local\\Temp\\ipykernel_6180\\52661120.py:6: DeprecationWarning: datetime.datetime.utcnow() is deprecated and scheduled for removal in a future version. Use timezone-aware objects to represent datetimes in UTC: datetime.datetime.now(datetime.UTC).\n",
      "  yesterday = datetime.utcnow().date() - timedelta(days=1)\n"
     ]
    },
    {
     "name": "stdout",
     "output_type": "stream",
     "text": [
      "Fetching data from https://coastwatch.noaa.gov/erddap/griddap/noaacrwsstanomalyDaily.csv?sea_surface_temperature_anomaly%5B(2025-06-17T12:00:00Z):1:(2025-06-17T12:00:00Z)%5D%5B(13.025):1:(-59.975)%5D%5B(78.025):1:(179.975)%5D\n",
      "Data saved to data/sst_anomaly.csv\n"
     ]
    }
   ],
   "source": [
    "import requests\n",
    "from datetime import datetime, timedelta\n",
    "\n",
    "def fetch_sst_anomaly():\n",
    "    # Get yesterday's date at 12:00 UTC (NOAA data timestamp)\n",
    "    yesterday = datetime.utcnow().date() - timedelta(days=1)\n",
    "    timestamp = yesterday.strftime(\"%Y-%m-%dT12:00:00Z\")\n",
    "\n",
    "    dataset_id = \"noaacrwsstanomalyDaily\"\n",
    "    variable = \"sea_surface_temperature_anomaly\"\n",
    "\n",
    "    # Correct URL format with slicing for time, lat, lon:\n",
    "    # [startTime:step:endTime][startLat:step:endLat][startLon:step:endLon]\n",
    "    url = (\n",
    "        f\"https://coastwatch.noaa.gov/erddap/griddap/{dataset_id}.csv?\"\n",
    "        f\"{variable}%5B({timestamp}):1:({timestamp})%5D\"\n",
    "        f\"%5B(13.025):1:(-59.975)%5D\"\n",
    "        f\"%5B(78.025):1:(179.975)%5D\"\n",
    "    )\n",
    "\n",
    "    print(f\"Fetching data from {url}\")\n",
    "    response = requests.get(url)\n",
    "    response.raise_for_status()  # Raise error if request failed\n",
    "\n",
    "    # Save CSV locally\n",
    "    with open(r\"C:\\Users\\AdrienSourdille\\Coral_Bleaching_Live_Map\\data\\raw\\latest_sst_anomaly.csv\", \"wb\") as f:\n",
    "      f.write(response.content)\n",
    "\n",
    "    print(\"Data saved to data/raw/latest_sst_anomaly.csv\")\n",
    "\n",
    "if __name__ == \"__main__\":\n",
    "    fetch_sst_anomaly()\n"
   ]
  },
  {
   "cell_type": "code",
   "execution_count": 17,
   "id": "b4034c95",
   "metadata": {},
   "outputs": [
    {
     "name": "stdout",
     "output_type": "stream",
     "text": [
      "Columns: ['UTC', 'degrees_north', 'degrees_east', 'degree_C']\n",
      "\n",
      "Sample rows:\n",
      "                    UTC  degrees_north  degrees_east  degree_C\n",
      "0  2025-06-17T12:00:00Z         13.025        78.025       NaN\n",
      "1  2025-06-17T12:00:00Z         13.025        78.075       NaN\n",
      "2  2025-06-17T12:00:00Z         13.025        78.125       NaN\n",
      "3  2025-06-17T12:00:00Z         13.025        78.175       NaN\n",
      "4  2025-06-17T12:00:00Z         13.025        78.225       NaN\n",
      "\n",
      "Summary statistics:\n",
      "       degrees_north  degrees_east      degree_C\n",
      "count   2.980440e+06  2.980440e+06  2.569294e+06\n",
      "mean   -2.347500e+01  1.290000e+02  7.684449e-01\n",
      "std     2.108772e+01  2.944487e+01  6.563551e-01\n",
      "min    -5.997500e+01  7.802500e+01 -8.190000e+00\n",
      "25%    -4.172500e+01  1.035125e+02  4.000000e-01\n",
      "50%    -2.347500e+01  1.290000e+02  7.600000e-01\n",
      "75%    -5.225000e+00  1.544875e+02  1.140000e+00\n",
      "max     1.302500e+01  1.799750e+02  4.630000e+00\n",
      "\n",
      "Data types:\n",
      "UTC               object\n",
      "degrees_north    float64\n",
      "degrees_east     float64\n",
      "degree_C         float64\n",
      "dtype: object\n"
     ]
    }
   ],
   "source": [
    "import pandas as pd\n",
    "\n",
    "def describe_sst_data(filepath=r\"C:\\Users\\AdrienSourdille\\Coral_Bleaching_Live_Map\\data\\raw\\latest_sst_anomaly.csv\"):\n",
    "    # Load CSV (skip first rows if they are metadata, adjust skiprows if needed)\n",
    "    df = pd.read_csv(filepath, skiprows=1)  # ERDDAP usually has 1 header row before data\n",
    "\n",
    "    print(\"Columns:\", df.columns.tolist())\n",
    "    print(\"\\nSample rows:\")\n",
    "    print(df.head())\n",
    "\n",
    "    print(\"\\nSummary statistics:\")\n",
    "    print(df.describe())\n",
    "\n",
    "    print(\"\\nData types:\")\n",
    "    print(df.dtypes)\n",
    "\n",
    "if __name__ == \"__main__\":\n",
    "    describe_sst_data()\n"
   ]
  }
 ],
 "metadata": {
  "kernelspec": {
   "display_name": ".venv",
   "language": "python",
   "name": "python3"
  },
  "language_info": {
   "codemirror_mode": {
    "name": "ipython",
    "version": 3
   },
   "file_extension": ".py",
   "mimetype": "text/x-python",
   "name": "python",
   "nbconvert_exporter": "python",
   "pygments_lexer": "ipython3",
   "version": "3.12.5"
  }
 },
 "nbformat": 4,
 "nbformat_minor": 5
}
